{
  "nbformat": 4,
  "nbformat_minor": 0,
  "metadata": {
    "colab": {
      "name": "Python assignment (Pranay Sitoke)",
      "provenance": [],
      "collapsed_sections": [],
      "authorship_tag": "ABX9TyOWfZQ9NmGT1+RSAQLryVmJ",
      "include_colab_link": true
    },
    "kernelspec": {
      "name": "python3",
      "display_name": "Python 3"
    },
    "language_info": {
      "name": "python"
    }
  },
  "cells": [
    {
      "cell_type": "markdown",
      "metadata": {
        "id": "view-in-github",
        "colab_type": "text"
      },
      "source": [
        "<a href=\"https://colab.research.google.com/github/Sitoke123/PYTHONrepo/blob/main/Python_assignment_(Pranay_Sitoke).ipynb\" target=\"_parent\"><img src=\"https://colab.research.google.com/assets/colab-badge.svg\" alt=\"Open In Colab\"/></a>"
      ]
    },
    {
      "cell_type": "code",
      "metadata": {
        "colab": {
          "base_uri": "https://localhost:8080/"
        },
        "id": "rDZLq5gkc0kw",
        "outputId": "f6f6b1b5-05f4-4de1-f69b-03f1de478091"
      },
      "source": [
        "#1\n",
        "n= float(input(\"Enter the float number \"))\n",
        "d= \"{:.2f}\".format(n)\n",
        "print(d)"
      ],
      "execution_count": 2,
      "outputs": [
        {
          "output_type": "stream",
          "name": "stdout",
          "text": [
            "Enter the float number 5.689\n",
            "5.69\n"
          ]
        }
      ]
    },
    {
      "cell_type": "code",
      "metadata": {
        "colab": {
          "base_uri": "https://localhost:8080/"
        },
        "id": "ROrqyGfcgDEv",
        "outputId": "edfb0c4f-6af6-41ca-b826-996f1dc60e85"
      },
      "source": [
        "#2\n",
        "a= int(input(\"enter the integer \"))\n",
        "b= int(input(\"enter another integer \"))\n",
        "print(\"product= \",a*b)\n"
      ],
      "execution_count": 3,
      "outputs": [
        {
          "output_type": "stream",
          "name": "stdout",
          "text": [
            "enter the integer 8\n",
            "enter another integer 6\n",
            "product=  48\n"
          ]
        }
      ]
    },
    {
      "cell_type": "code",
      "metadata": {
        "colab": {
          "base_uri": "https://localhost:8080/"
        },
        "id": "uUEg__X-hZgY",
        "outputId": "d119e7ea-0c94-4687-f8b5-0289638e316e"
      },
      "source": [
        "#3\n",
        "r= 10\n",
        "pi= 3.14\n",
        "vol= (4*pi*r*r*r)/3\n",
        "print(\"volume of sphere \",vol)"
      ],
      "execution_count": 5,
      "outputs": [
        {
          "output_type": "stream",
          "name": "stdout",
          "text": [
            "volume of sphere  4186.666666666667\n"
          ]
        }
      ]
    },
    {
      "cell_type": "code",
      "metadata": {
        "colab": {
          "base_uri": "https://localhost:8080/"
        },
        "id": "fjzLzfHQh88h",
        "outputId": "2f6eac71-7a1d-429c-bdc4-d50caa4472ad"
      },
      "source": [
        "#4\n",
        "n1= int(input(\"enter the first number \"))\n",
        "n2= int(input(\"enter the second number \"))\n",
        "print(\"product= \",n1*n2)"
      ],
      "execution_count": 7,
      "outputs": [
        {
          "output_type": "stream",
          "name": "stdout",
          "text": [
            "enter the first number 5\n",
            "enter the second number 6\n",
            "product=  30\n"
          ]
        }
      ]
    },
    {
      "cell_type": "code",
      "metadata": {
        "colab": {
          "base_uri": "https://localhost:8080/"
        },
        "id": "8b5RHsIIiqqP",
        "outputId": "4b3cfb02-82bf-46d0-8713-049a4e5a6890"
      },
      "source": [
        "#5\n",
        "a= int(input(\"enter an integer= \"))\n",
        "SOP= a+a*a+a*a*a\n",
        "print(SOP)"
      ],
      "execution_count": 8,
      "outputs": [
        {
          "output_type": "stream",
          "name": "stdout",
          "text": [
            "enter an integer= 3\n",
            "39\n"
          ]
        }
      ]
    },
    {
      "cell_type": "code",
      "metadata": {
        "colab": {
          "base_uri": "https://localhost:8080/"
        },
        "id": "ieMSxbHdjaTY",
        "outputId": "d163a58b-f0a6-4670-c0e6-8860a621150f"
      },
      "source": [
        "#6\n",
        "string= str(input(\"enter a string \"))\n",
        "l= len(string)\n",
        "print(\"length of the string is \",l)"
      ],
      "execution_count": 10,
      "outputs": [
        {
          "output_type": "stream",
          "name": "stdout",
          "text": [
            "enter a string Pranay\n",
            "length of the string is  6\n"
          ]
        }
      ]
    },
    {
      "cell_type": "code",
      "metadata": {
        "colab": {
          "base_uri": "https://localhost:8080/"
        },
        "id": "cl4yuEKrkYJm",
        "outputId": "f54664f8-b803-478d-bfb6-b4b6fc2fc1ef"
      },
      "source": [
        "#7\n",
        "str_1= \"130\"\n",
        "str_2= \"130.4\"\n",
        "print(\"parsed into Int \",int(str_1))\n",
        "print(\"parsed into Float \",float(str_2))"
      ],
      "execution_count": 12,
      "outputs": [
        {
          "output_type": "stream",
          "name": "stdout",
          "text": [
            "parsed into Int  130\n",
            "parsed into Float  130.4\n"
          ]
        }
      ]
    },
    {
      "cell_type": "code",
      "metadata": {
        "colab": {
          "base_uri": "https://localhost:8080/"
        },
        "id": "pZRbipnWvETP",
        "outputId": "747900f2-18d1-4870-a2e3-ac0862507cc6"
      },
      "source": [
        "#8\n",
        "n1= int(input(\"enter the number \"))\n",
        "n2= int(input(\"enter another number \"))\n",
        "c=n1+n2\n",
        "if(c>100):\n",
        "  print(\"sum is greater than 100 so product will be \",n1*n2)\n",
        "else:\n",
        "    print(\"sum of two number is\",c)"
      ],
      "execution_count": 16,
      "outputs": [
        {
          "output_type": "stream",
          "name": "stdout",
          "text": [
            "enter the number 101\n",
            "enter another number 1\n",
            "sum is greater than 100 so product will be  101\n"
          ]
        }
      ]
    },
    {
      "cell_type": "code",
      "metadata": {
        "colab": {
          "base_uri": "https://localhost:8080/"
        },
        "id": "zga8Nv_gxD65",
        "outputId": "eac4b641-23d5-482e-f6be-0320aee7f666"
      },
      "source": [
        "#9\n",
        "a= 10\n",
        "b= 10\n",
        "c= 20\n",
        "if(a==b==c):\n",
        "  print(\"sum is \",a+b+c)\n",
        "else:\n",
        "    print(\"sum is \",a+b+c)\n",
        "    print(\"product is\",a*b*c)"
      ],
      "execution_count": 18,
      "outputs": [
        {
          "output_type": "stream",
          "name": "stdout",
          "text": [
            "sum is  40\n",
            "product is 2000\n"
          ]
        }
      ]
    },
    {
      "cell_type": "code",
      "metadata": {
        "colab": {
          "base_uri": "https://localhost:8080/"
        },
        "id": "5XnGneh-yUUL",
        "outputId": "571a5d29-f7df-4abc-f8d1-c6b229ec5ef1"
      },
      "source": [
        "#10\n",
        "price=100\n",
        "n= int(input(\"enter the quantity purchased \"))\n",
        "tot_price= n*100\n",
        "dscnt= 0\n",
        "if(tot_price>10000):\n",
        "  dscnt= tot_price*0.5\n",
        "  price(\"your bill with 50% discount= \",dscnt)\n",
        "else:\n",
        "  print(\"your total bill is \",tot_price,\"/n Discount= \",dscnt)"
      ],
      "execution_count": 23,
      "outputs": [
        {
          "output_type": "stream",
          "name": "stdout",
          "text": [
            "enter the quantity purchased 100\n",
            "your total bill is  10000 /n Discount=  0\n"
          ]
        }
      ]
    },
    {
      "cell_type": "code",
      "metadata": {
        "colab": {
          "base_uri": "https://localhost:8080/"
        },
        "id": "KvJVBo_33Kbh",
        "outputId": "37681c6e-b343-4e77-a866-819ed57beadb"
      },
      "source": [
        "#11\n",
        "n= int(input(\"enter a number \"))\n",
        "if(n%8==0 and n%12==0):\n",
        "  print(\"number is divisible by both 8 and 12 \")\n",
        "else:\n",
        "  print(\"number can be divisible either by 8 or 12 \\nOR\\ not didvisible by both \")"
      ],
      "execution_count": 24,
      "outputs": [
        {
          "output_type": "stream",
          "name": "stdout",
          "text": [
            "enter a number 24\n",
            "number is divisible by both 8 and 12 \n"
          ]
        }
      ]
    },
    {
      "cell_type": "code",
      "metadata": {
        "colab": {
          "base_uri": "https://localhost:8080/"
        },
        "id": "8W8KxxRy4URB",
        "outputId": "a7baecea-4682-4437-b8c5-11abc7a0823f"
      },
      "source": [
        "#12\n",
        "n=int(input(\"enter a number \"))\n",
        "if(n%2==0):\n",
        "  print(\"the number is even\")\n",
        "else:\n",
        "  print(\"the number is odd\")"
      ],
      "execution_count": 25,
      "outputs": [
        {
          "output_type": "stream",
          "name": "stdout",
          "text": [
            "enter a number 45\n",
            "the number is odd\n"
          ]
        }
      ]
    }
  ]
}